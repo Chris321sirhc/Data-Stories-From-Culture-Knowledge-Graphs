{
 "cells": [
  {
   "cell_type": "markdown",
   "metadata": {},
   "source": [
    "# Process Documentation\n",
    "This notebook is meant to document past progress and attempts at exploring and visualizing the NFID4 Culture Knowledge Graph."
   ]
  },
  {
   "cell_type": "markdown",
   "metadata": {},
   "source": [
    "## Initial attempts\n",
    "This section covers the first weeks of the project course and is meant to illustrate approaches and thought behind the work.\n",
    "## Imagining a process pipeline\n",
    "Initially the idea was to automate the querying of a [SPARQL](https://www.w3.org/TR/sparql11-query/) endpoint (in this case the [NFID4 Culture](https://nfdi4culture.de/resources/knowledge-graph.html) endpoint) and extracting the desired information and relations from that query to then display it using a visualization tool like [MELODY](https://melody-data.github.io/stories/).\n",
    "\n",
    "This was not productive in the sense that the MELODY tool at the time was not working with the desired endpoint and that the idea was too analysis focused without regard for the relational properties of a knowledge graph as compared to a conventional database.\n",
    "\n",
    "Consequently, the process pipeline has to be reimagined in a more recursive fashion and iterate over the graph s.t. it can meaningfully leverage the nature of a knowledge graph and enable exploration in a more natural sense. This process is inspired by approaches like [these](https://ome.dehio.org/de/start). % ADD MORE\n",
    "\n",
    "A big part of this ideation process was familiarizing with the SPARQL basics and grasping the possibilities and limitations within the scope of the project.\n",
    "\n",
    "## SPARQL Queries\n",
    "Starting from the initially provided queries (\\<insert here>) the process did at first not become productive as the queries did not work or were meaningless. A selection of the attempted queries can be found in `files/queries.json`.\n",
    "\n",
    "The **working** SPARQL queries can now be found in the `files/sparql_queries` directory. Below is an example of a query that retrieves decade, composer and number of works of that composer in that decade.\n",
    "\n",
    "```sql\n",
    "    PREFIX xsd: <http://www.w3.org/2001/XMLSchema#>\n",
    "    PREFIX rdf: <http://www.w3.org/1999/02/22-rdf-syntax-ns#>\n",
    "    PREFIX rdfs: <http://www.w3.org/2000/01/rdf-schema#>\n",
    "    PREFIX schema: <http://schema.org/>\n",
    "\n",
    "    SELECT \n",
    "        ?decade \n",
    "        ?composer \n",
    "        ?composerName \n",
    "        (COUNT(?composition) AS ?numberOfCompositions)\n",
    "    WHERE {\n",
    "        ?composition rdf:type schema:MusicComposition .\n",
    "        ?composition schema:dateCreated ?dateCreated .\n",
    "        ?composition schema:composer ?composer .\n",
    "\n",
    "        # Attempt to get human-readable name\n",
    "        OPTIONAL { ?composer schema:name ?composerName . }\n",
    "        \n",
    "        # Fallback to rdfs:label if available\n",
    "        OPTIONAL { ?composer rdfs:label ?composerName . }\n",
    "\n",
    "        # Compute the decade\n",
    "        BIND(FLOOR(YEAR(xsd:dateTime(?dateCreated)) / 10) * 10 AS ?decade)\n",
    "    }\n",
    "    GROUP BY \n",
    "        ?decade \n",
    "        ?composer \n",
    "        ?composerName\n",
    "    ORDER BY \n",
    "        ?decade DESC \n",
    "        (?numberOfCompositions)\n",
    "```"
   ]
  },
  {
   "cell_type": "code",
   "execution_count": null,
   "metadata": {},
   "outputs": [],
   "source": []
  }
 ],
 "metadata": {
  "kernelspec": {
   "display_name": "pise",
   "language": "python",
   "name": "python3"
  },
  "language_info": {
   "codemirror_mode": {
    "name": "ipython",
    "version": 3
   },
   "file_extension": ".py",
   "mimetype": "text/x-python",
   "name": "python",
   "nbconvert_exporter": "python",
   "pygments_lexer": "ipython3",
   "version": "3.12.7"
  }
 },
 "nbformat": 4,
 "nbformat_minor": 2
}
