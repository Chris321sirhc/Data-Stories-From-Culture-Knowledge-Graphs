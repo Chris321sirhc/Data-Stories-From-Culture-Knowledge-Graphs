{
 "cells": [
  {
   "cell_type": "markdown",
   "metadata": {},
   "source": [
    "# Process Documentation\n",
    "This notebook is meant to document past progress and attempts at exploring and visualizing the NFID4 Culture Knowledge Graph."
   ]
  },
  {
   "cell_type": "markdown",
   "metadata": {},
   "source": [
    "## Initial attempts\n",
    "This section covers the first weeks of the project course and is meant to illustrate approaches and thought behind the work.\n",
    "## Imagining a process pipeline\n",
    "Initially the idea was to automate the querying of a [SPARQL](https://www.w3.org/TR/sparql11-query/) endpoint (in this case the [NFID4 Culture](https://nfdi4culture.de/resources/knowledge-graph.html) endpoint) and extracting the desired information and relations from that query to then display it using a visualization tool like [MELODY](https://melody-data.github.io/stories/).\n",
    "\n",
    "This was not productive in the sense that the MELODY tool at the time was not working with the desired endpoint and that the idea was too analysis focused without regard for the relational properties of a knowledge graph as compared to a conventional database.\n",
    "\n",
    "Consequently, the process pipeline has to be reimagined in a more recursive fashion and iterate over the graph s.t. it can meaningfully leverage the nature of a knowledge graph and enable exploration in a more natural sense. This process is inspired by approaches like [these](https://ome.dehio.org/de/start). % ADD MORE\n",
    "\n",
    "A big part of this ideation process was familiarizing with the SPARQL basics and grasping the possibilities and limitations within the scope of the project.\n",
    "\n",
    "## SPARQL Queries\n",
    "Starting from the initially provided queries (\\<insert here>) the process did at first not become productive as the queries did not work or were meaningless. A selection of the attempted queries can be found in `files/queries.json` under the `preliminary` keyword."
   ]
  }
 ],
 "metadata": {
  "language_info": {
   "name": "python"
  }
 },
 "nbformat": 4,
 "nbformat_minor": 2
}
