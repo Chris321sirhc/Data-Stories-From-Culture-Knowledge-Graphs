{
 "cells": [
  {
   "cell_type": "markdown",
   "metadata": {},
   "source": [
    "### Culture Knowledge Graphs Using MELODY and the public SPARQL Endpoint for NFDI4Culture"
   ]
  },
  {
   "cell_type": "code",
   "execution_count": null,
   "metadata": {},
   "outputs": [],
   "source": [
    "from SPARQLWrapper import SPARQLWrapper, JSON\n",
    "import pandas as pd\n",
    "import json"
   ]
  },
  {
   "cell_type": "code",
   "execution_count": null,
   "metadata": {},
   "outputs": [],
   "source": [
    "with open(\"../files/queries.json\") as f:\n",
    "    queries = json.load(f)"
   ]
  },
  {
   "cell_type": "code",
   "execution_count": null,
   "metadata": {},
   "outputs": [],
   "source": [
    "queries = queries[\"feasible_queries\"]"
   ]
  },
  {
   "cell_type": "code",
   "execution_count": null,
   "metadata": {},
   "outputs": [],
   "source": [
    "queries"
   ]
  },
  {
   "cell_type": "code",
   "execution_count": null,
   "metadata": {},
   "outputs": [],
   "source": [
    "sparql = SPARQLWrapper(\"https://nfdi4culture.de/sparql\")\n",
    "sparql.setReturnFormat(JSON)"
   ]
  },
  {
   "cell_type": "code",
   "execution_count": null,
   "metadata": {},
   "outputs": [],
   "source": [
    "QUERIES = {\n",
    "    \"n_triplets\": \"\"\"\n",
    "        PREFIX rdf: <http://www.w3.org/1999/02/22-rdf-syntax-ns#>\n",
    "        SELECT (COUNT(*) AS ?tripleCount)\n",
    "        WHERE {\n",
    "            ?s ?p ?o .\n",
    "        }\n",
    "    \"\"\",\n",
    "\n",
    "    \"all_types\": \"\"\"\n",
    "        PREFIX rdf: <http://www.w3.org/1999/02/22-rdf-syntax-ns#>\n",
    "        SELECT DISTINCT ?type\n",
    "        WHERE {\n",
    "            ?s rdf:type ?type .\n",
    "        }\n",
    "        ORDER BY ?type\n",
    "    \"\"\",\n",
    "\n",
    "    \"n_instances_per_type\": \"\"\"\n",
    "        PREFIX rdf: <http://www.w3.org/1999/02/22-rdf-syntax-ns#>\n",
    "        SELECT ?type (COUNT(?s) AS ?instanceCount)\n",
    "        WHERE {\n",
    "            ?s rdf:type ?type .\n",
    "        }\n",
    "        GROUP BY ?type\n",
    "        ORDER BY DESC(?instanceCount)\n",
    "    \"\"\",\n",
    "\n",
    "    \"type_properties\": \"\"\"\n",
    "        PREFIX rdf: <http://www.w3.org/1999/02/22-rdf-syntax-ns#>\n",
    "        SELECT ?type ?property (COUNT(?property) AS ?propertyCount)\n",
    "        WHERE {\n",
    "            ?s rdf:type ?type ;\n",
    "               ?property ?o .\n",
    "        }\n",
    "        GROUP BY ?type ?property\n",
    "        ORDER BY ?type DESC(?propertyCount)\n",
    "    \"\"\",\n",
    "\n",
    "    \"all_properties\": \"\"\"\n",
    "        PREFIX rdf: <http://www.w3.org/1999/02/22-rdf-syntax-ns#>\n",
    "        SELECT DISTINCT ?property\n",
    "        WHERE {\n",
    "            ?s ?property ?o .\n",
    "        }\n",
    "        ORDER BY ?property\n",
    "    \"\"\",\n",
    "\n",
    "    \"n_instances_per_property\": \"\"\"\n",
    "        PREFIX rdf: <http://www.w3.org/1999/02/22-rdf-syntax-ns#>\n",
    "        SELECT ?property (COUNT(?s) AS ?instanceCount)\n",
    "        WHERE {\n",
    "            ?s ?property ?o .\n",
    "        }\n",
    "        GROUP BY ?property\n",
    "        ORDER BY DESC(?instanceCount)\n",
    "    \"\"\",\n",
    "\n",
    "    \"property_values\": \"\"\"\n",
    "        PREFIX rdf: <http://www.w3.org/1999/02/22-rdf-syntax-ns#>\n",
    "        SELECT ?property ?value (COUNT(?s) AS ?usageCount)\n",
    "        WHERE {\n",
    "            ?s ?property ?value .\n",
    "        }\n",
    "        GROUP BY ?property ?value\n",
    "        ORDER BY ?property DESC(?usageCount)\n",
    "    \"\"\",\n",
    "\n",
    "    \"subjects_with_property\": \"\"\"\n",
    "        PREFIX rdf: <http://www.w3.org/1999/02/22-rdf-syntax-ns#>\n",
    "        SELECT DISTINCT ?subject\n",
    "        WHERE {\n",
    "            ?subject ?property ?o .\n",
    "            FILTER(?property = <PROPERTY_URI>)\n",
    "        }\n",
    "        ORDER BY ?subject\n",
    "    \"\"\",\n",
    "\n",
    "    \"objects_with_property\": \"\"\"\n",
    "        PREFIX rdf: <http://www.w3.org/1999/02/22-rdf-syntax-ns#>\n",
    "        SELECT DISTINCT ?object\n",
    "        WHERE {\n",
    "            ?s ?property ?object .\n",
    "            FILTER(?property = <PROPERTY_URI>)\n",
    "        }\n",
    "        ORDER BY ?object\n",
    "    \"\"\",\n",
    "\n",
    "    \"subjects_with_type\": \"\"\"\n",
    "        PREFIX rdf: <http://www.w3.org/1999/02/22-rdf-syntax-ns#>\n",
    "        SELECT DISTINCT ?subject\n",
    "        WHERE {\n",
    "            ?subject rdf:type <TYPE_URI> .\n",
    "        }\n",
    "        ORDER BY ?subject\n",
    "    \"\"\",\n",
    "\n",
    "    \"objects_with_type\": \"\"\"\n",
    "        PREFIX rdf: <http://www.w3.org/1999/02/22-rdf-syntax-ns#>\n",
    "        SELECT DISTINCT ?object\n",
    "        WHERE {\n",
    "            ?s ?p ?object .\n",
    "            ?object rdf:type <TYPE_URI> .\n",
    "        }\n",
    "        ORDER BY ?object\n",
    "    \"\"\",\n",
    "\n",
    "    \"subjects_with_property_value\": \"\"\"\n",
    "        PREFIX rdf: <http://www.w3.org/1999/02/22-rdf-syntax-ns#>\n",
    "        SELECT DISTINCT ?subject\n",
    "        WHERE {\n",
    "            ?subject ?property <VALUE_URI> .\n",
    "            FILTER(?property = <PROPERTY_URI>)\n",
    "        }\n",
    "        ORDER BY ?subject\n",
    "    \"\"\",\n",
    "\n",
    "    \"objects_with_property_value\": \"\"\"\n",
    "        PREFIX rdf: <http://www.w3.org/1999/02/22-rdf-syntax-ns#>\n",
    "        SELECT DISTINCT ?object\n",
    "        WHERE {\n",
    "            ?s ?property ?object .\n",
    "            FILTER(?property = <PROPERTY_URI> && ?object = <VALUE_URI>)\n",
    "        }\n",
    "        ORDER BY ?object\n",
    "    \"\"\",\n",
    "\n",
    "    \"subjects_with_type_and_property\": \"\"\"\n",
    "        PREFIX rdf: <http://www.w3.org/1999/02/22-rdf-syntax-ns#>\n",
    "        SELECT DISTINCT ?subject\n",
    "        WHERE {\n",
    "            ?subject rdf:type <TYPE_URI> ;\n",
    "                     ?property ?o .\n",
    "            FILTER(?property = <PROPERTY_URI>)\n",
    "        }\n",
    "        ORDER BY ?subject\n",
    "    \"\"\",\n",
    "\n",
    "    \"objects_with_type_and_property\": \"\"\"\n",
    "        PREFIX rdf: <http://www.w3.org/1999/02/22-rdf-syntax-ns#>\n",
    "        SELECT DISTINCT ?object\n",
    "        WHERE {\n",
    "            ?s ?property ?object .\n",
    "            ?object rdf:type <TYPE_URI> .\n",
    "            FILTER(?property = <PROPERTY_URI>)\n",
    "        }\n",
    "        ORDER BY ?object\n",
    "    \"\"\",\n",
    "\n",
    "    \"subjects_with_type_and_property_value\": \"\"\"\n",
    "        PREFIX rdf: <http://www.w3.org/1999/02/22-rdf-syntax-ns#>\n",
    "        SELECT DISTINCT ?subject\n",
    "        WHERE {\n",
    "            ?subject rdf:type <TYPE_URI> ;\n",
    "                     ?property <VALUE_URI> .\n",
    "            FILTER(?property = <PROPERTY_URI>)\n",
    "        }\n",
    "        ORDER BY ?subject\n",
    "    \"\"\",\n",
    "\n",
    "    \"objects_with_type_and_property_value\": \"\"\"\n",
    "        PREFIX rdf: <http://www.w3.org/1999/02/22-rdf-syntax-ns#>\n",
    "        SELECT DISTINCT ?object\n",
    "        WHERE {\n",
    "            ?s ?property ?object .\n",
    "            ?object rdf:type <TYPE_URI> .\n",
    "            FILTER(?property = <PROPERTY_URI> && ?object = <VALUE_URI>)\n",
    "        }\n",
    "        ORDER BY ?object\n",
    "    \"\"\"\n",
    "}"
   ]
  },
  {
   "cell_type": "code",
   "execution_count": null,
   "metadata": {},
   "outputs": [],
   "source": [
    "sparql.setQuery(queries[\"count_compositions_composer_name_decade\"])"
   ]
  },
  {
   "cell_type": "code",
   "execution_count": null,
   "metadata": {},
   "outputs": [],
   "source": [
    "try:\n",
    "    ret = sparql.queryAndConvert()\n",
    "except Exception as e:\n",
    "    print(e)"
   ]
  },
  {
   "cell_type": "code",
   "execution_count": null,
   "metadata": {},
   "outputs": [],
   "source": [
    "df = pd.DataFrame(ret[\"results\"][\"bindings\"])\n",
    "# for each entry, conver entry dict into dict['value']\n",
    "df = df.applymap(lambda x: x['value'])"
   ]
  },
  {
   "cell_type": "code",
   "execution_count": null,
   "metadata": {},
   "outputs": [],
   "source": [
    "df"
   ]
  },
  {
   "cell_type": "code",
   "execution_count": null,
   "metadata": {},
   "outputs": [],
   "source": [
    "bindings = ret[\"results\"][\"bindings\"]\n",
    "rows = [{'sub': f\"<{b['sub']['value']}>\",\n",
    "         'pred': 'rdf:type' if 'rdf-syntax-ns#type' in b['pred']['value'] else b['pred']['value'],\n",
    "         'obj': f\"<{b['obj']['value']}>\"}\n",
    "        for b in bindings]\n",
    "df = pd.DataFrame(rows)"
   ]
  },
  {
   "cell_type": "code",
   "execution_count": null,
   "metadata": {},
   "outputs": [],
   "source": [
    "df"
   ]
  }
 ],
 "metadata": {
  "kernelspec": {
   "display_name": "pise",
   "language": "python",
   "name": "python3"
  },
  "language_info": {
   "codemirror_mode": {
    "name": "ipython",
    "version": 3
   },
   "file_extension": ".py",
   "mimetype": "text/x-python",
   "name": "python",
   "nbconvert_exporter": "python",
   "pygments_lexer": "ipython3",
   "version": "undefined.undefined.undefined"
  }
 },
 "nbformat": 4,
 "nbformat_minor": 2
}
